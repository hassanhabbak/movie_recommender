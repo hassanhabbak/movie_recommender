{
 "cells": [
  {
   "cell_type": "code",
   "execution_count": 3,
   "metadata": {
    "scrolled": true
   },
   "outputs": [],
   "source": [
    "#hide\n",
    "from movierecommender import movies_metadata as mmd\n",
    "from movierecommender import users\n",
    "import pandas as pd"
   ]
  },
  {
   "cell_type": "markdown",
   "metadata": {},
   "source": [
    "# Movie Recommender\n",
    "\n",
    "> This is a movie recommender implementation of user to movie and movie to movie recommendations. The methods used are primarily focused on embeddings to extrapolate similarity between users and items."
   ]
  },
  {
   "cell_type": "markdown",
   "metadata": {},
   "source": [
    "https://hassanhabbak.github.io/movie_recommender/"
   ]
  },
  {
   "cell_type": "markdown",
   "metadata": {},
   "source": [
    "## Dependencies"
   ]
  },
  {
   "cell_type": "markdown",
   "metadata": {},
   "source": [
    "`conda create --name <env> --file requirements.txt`"
   ]
  },
  {
   "cell_type": "markdown",
   "metadata": {},
   "source": [
    "## How to use"
   ]
  },
  {
   "cell_type": "markdown",
   "metadata": {},
   "source": [
    "## movies_metadata module"
   ]
  },
  {
   "cell_type": "markdown",
   "metadata": {},
   "source": [
    "Loading in the meta data features:\n",
    "\n",
    "- Cleans data from duplicates\n",
    "- Convert adult tag on movies to bool\n",
    "- Label Encodes genres after cleanning\n",
    "- Drops incorrect Iso for languages\n",
    "- Gets numerical features and corrects wrong values\n",
    "- Bucketizes the decade the movie was launched in\n",
    "- Creates a flag of whether the movie is recent or not\n",
    "- NLP processing of overview description (TFIDF + LDA)"
   ]
  },
  {
   "cell_type": "code",
   "execution_count": 4,
   "metadata": {},
   "outputs": [
    {
     "name": "stderr",
     "output_type": "stream",
     "text": [
      "C:\\Users\\hhapp\\anaconda3\\envs\\tensorflow\\lib\\site-packages\\IPython\\core\\interactiveshell.py:3063: DtypeWarning: Columns (10) have mixed types.Specify dtype option on import or set low_memory=False.\n",
      "  interactivity=interactivity, compiler=compiler, result=result)\n"
     ]
    },
    {
     "data": {
      "text/html": [
       "<div>\n",
       "<style scoped>\n",
       "    .dataframe tbody tr th:only-of-type {\n",
       "        vertical-align: middle;\n",
       "    }\n",
       "\n",
       "    .dataframe tbody tr th {\n",
       "        vertical-align: top;\n",
       "    }\n",
       "\n",
       "    .dataframe thead th {\n",
       "        text-align: right;\n",
       "    }\n",
       "</style>\n",
       "<table border=\"1\" class=\"dataframe\">\n",
       "  <thead>\n",
       "    <tr style=\"text-align: right;\">\n",
       "      <th></th>\n",
       "      <th>adult</th>\n",
       "      <th>vote_count</th>\n",
       "      <th>vote_average</th>\n",
       "      <th>runtime</th>\n",
       "      <th>popularity</th>\n",
       "      <th>decade_label</th>\n",
       "      <th>released_recently</th>\n",
       "      <th>G_0</th>\n",
       "      <th>G_1</th>\n",
       "      <th>G_2</th>\n",
       "      <th>...</th>\n",
       "      <th>G_10</th>\n",
       "      <th>G_11</th>\n",
       "      <th>G_12</th>\n",
       "      <th>G_13</th>\n",
       "      <th>G_14</th>\n",
       "      <th>G_15</th>\n",
       "      <th>G_16</th>\n",
       "      <th>G_17</th>\n",
       "      <th>G_18</th>\n",
       "      <th>G_19</th>\n",
       "    </tr>\n",
       "    <tr>\n",
       "      <th>id</th>\n",
       "      <th></th>\n",
       "      <th></th>\n",
       "      <th></th>\n",
       "      <th></th>\n",
       "      <th></th>\n",
       "      <th></th>\n",
       "      <th></th>\n",
       "      <th></th>\n",
       "      <th></th>\n",
       "      <th></th>\n",
       "      <th></th>\n",
       "      <th></th>\n",
       "      <th></th>\n",
       "      <th></th>\n",
       "      <th></th>\n",
       "      <th></th>\n",
       "      <th></th>\n",
       "      <th></th>\n",
       "      <th></th>\n",
       "      <th></th>\n",
       "      <th></th>\n",
       "    </tr>\n",
       "  </thead>\n",
       "  <tbody>\n",
       "    <tr>\n",
       "      <th>862</th>\n",
       "      <td>False</td>\n",
       "      <td>5415.0</td>\n",
       "      <td>7.7</td>\n",
       "      <td>81.0</td>\n",
       "      <td>21.946943</td>\n",
       "      <td>2.0</td>\n",
       "      <td>False</td>\n",
       "      <td>0.0</td>\n",
       "      <td>0.0</td>\n",
       "      <td>1.0</td>\n",
       "      <td>...</td>\n",
       "      <td>0.0</td>\n",
       "      <td>0.0</td>\n",
       "      <td>0.0</td>\n",
       "      <td>0.0</td>\n",
       "      <td>0.0</td>\n",
       "      <td>0.0</td>\n",
       "      <td>0.0</td>\n",
       "      <td>0.0</td>\n",
       "      <td>0.0</td>\n",
       "      <td>0.0</td>\n",
       "    </tr>\n",
       "    <tr>\n",
       "      <th>8844</th>\n",
       "      <td>False</td>\n",
       "      <td>2413.0</td>\n",
       "      <td>6.9</td>\n",
       "      <td>104.0</td>\n",
       "      <td>17.015539</td>\n",
       "      <td>2.0</td>\n",
       "      <td>False</td>\n",
       "      <td>0.0</td>\n",
       "      <td>1.0</td>\n",
       "      <td>0.0</td>\n",
       "      <td>...</td>\n",
       "      <td>0.0</td>\n",
       "      <td>0.0</td>\n",
       "      <td>0.0</td>\n",
       "      <td>0.0</td>\n",
       "      <td>0.0</td>\n",
       "      <td>0.0</td>\n",
       "      <td>0.0</td>\n",
       "      <td>0.0</td>\n",
       "      <td>0.0</td>\n",
       "      <td>0.0</td>\n",
       "    </tr>\n",
       "    <tr>\n",
       "      <th>15602</th>\n",
       "      <td>False</td>\n",
       "      <td>92.0</td>\n",
       "      <td>6.5</td>\n",
       "      <td>101.0</td>\n",
       "      <td>11.712900</td>\n",
       "      <td>2.0</td>\n",
       "      <td>False</td>\n",
       "      <td>0.0</td>\n",
       "      <td>0.0</td>\n",
       "      <td>0.0</td>\n",
       "      <td>...</td>\n",
       "      <td>0.0</td>\n",
       "      <td>0.0</td>\n",
       "      <td>0.0</td>\n",
       "      <td>0.0</td>\n",
       "      <td>1.0</td>\n",
       "      <td>0.0</td>\n",
       "      <td>0.0</td>\n",
       "      <td>0.0</td>\n",
       "      <td>0.0</td>\n",
       "      <td>0.0</td>\n",
       "    </tr>\n",
       "    <tr>\n",
       "      <th>31357</th>\n",
       "      <td>False</td>\n",
       "      <td>34.0</td>\n",
       "      <td>6.1</td>\n",
       "      <td>127.0</td>\n",
       "      <td>3.859495</td>\n",
       "      <td>2.0</td>\n",
       "      <td>False</td>\n",
       "      <td>0.0</td>\n",
       "      <td>0.0</td>\n",
       "      <td>0.0</td>\n",
       "      <td>...</td>\n",
       "      <td>0.0</td>\n",
       "      <td>0.0</td>\n",
       "      <td>0.0</td>\n",
       "      <td>0.0</td>\n",
       "      <td>1.0</td>\n",
       "      <td>0.0</td>\n",
       "      <td>0.0</td>\n",
       "      <td>0.0</td>\n",
       "      <td>0.0</td>\n",
       "      <td>0.0</td>\n",
       "    </tr>\n",
       "    <tr>\n",
       "      <th>11862</th>\n",
       "      <td>False</td>\n",
       "      <td>173.0</td>\n",
       "      <td>5.7</td>\n",
       "      <td>106.0</td>\n",
       "      <td>8.387519</td>\n",
       "      <td>2.0</td>\n",
       "      <td>False</td>\n",
       "      <td>0.0</td>\n",
       "      <td>0.0</td>\n",
       "      <td>0.0</td>\n",
       "      <td>...</td>\n",
       "      <td>0.0</td>\n",
       "      <td>0.0</td>\n",
       "      <td>0.0</td>\n",
       "      <td>0.0</td>\n",
       "      <td>0.0</td>\n",
       "      <td>0.0</td>\n",
       "      <td>0.0</td>\n",
       "      <td>0.0</td>\n",
       "      <td>0.0</td>\n",
       "      <td>0.0</td>\n",
       "    </tr>\n",
       "  </tbody>\n",
       "</table>\n",
       "<p>5 rows × 27 columns</p>\n",
       "</div>"
      ],
      "text/plain": [
       "       adult  vote_count  vote_average  runtime  popularity  decade_label  \\\n",
       "id                                                                          \n",
       "862    False      5415.0           7.7     81.0   21.946943           2.0   \n",
       "8844   False      2413.0           6.9    104.0   17.015539           2.0   \n",
       "15602  False        92.0           6.5    101.0   11.712900           2.0   \n",
       "31357  False        34.0           6.1    127.0    3.859495           2.0   \n",
       "11862  False       173.0           5.7    106.0    8.387519           2.0   \n",
       "\n",
       "       released_recently  G_0  G_1  G_2  ...  G_10  G_11  G_12  G_13  G_14  \\\n",
       "id                                       ...                                 \n",
       "862                False  0.0  0.0  1.0  ...   0.0   0.0   0.0   0.0   0.0   \n",
       "8844               False  0.0  1.0  0.0  ...   0.0   0.0   0.0   0.0   0.0   \n",
       "15602              False  0.0  0.0  0.0  ...   0.0   0.0   0.0   0.0   1.0   \n",
       "31357              False  0.0  0.0  0.0  ...   0.0   0.0   0.0   0.0   1.0   \n",
       "11862              False  0.0  0.0  0.0  ...   0.0   0.0   0.0   0.0   0.0   \n",
       "\n",
       "       G_15  G_16  G_17  G_18  G_19  \n",
       "id                                   \n",
       "862     0.0   0.0   0.0   0.0   0.0  \n",
       "8844    0.0   0.0   0.0   0.0   0.0  \n",
       "15602   0.0   0.0   0.0   0.0   0.0  \n",
       "31357   0.0   0.0   0.0   0.0   0.0  \n",
       "11862   0.0   0.0   0.0   0.0   0.0  \n",
       "\n",
       "[5 rows x 27 columns]"
      ]
     },
     "execution_count": 4,
     "metadata": {},
     "output_type": "execute_result"
    }
   ],
   "source": [
    "meta_df = pd.read_csv('data/movies_metadata.csv')\n",
    "movies_df = mmd.get_movie_features(meta_df)\n",
    "movies_df.head()"
   ]
  },
  {
   "cell_type": "markdown",
   "metadata": {},
   "source": [
    "## users module\n",
    "\n",
    "Collaborative filtering is a technique that usually relies on matrix factorization to reduce a fat matrix to two thin ones, horizontally for user similarity, and vertically for item similarity. Using matrix completition, we could deduce how likely one user is to rate another. However the dataset of user iteractions is large and can become bigger by time. This is why I selected NN approach.\n",
    "\n",
    "In this approach, a network is constructed to have two embedding layers learned against the movie rating as a target. One layer is for the user, the other is for the movie. The network weights for the layer is optimized to reduce the error in predicting the rating. The vectors from the embedding layers then will be the vector representation of similarity of movies and users."
   ]
  },
  {
   "cell_type": "markdown",
   "metadata": {},
   "source": [
    "#### Using NN collaborative filtering\n",
    "\n",
    "In this part, the users and movies are represented as label encoded input to the network. Only the rating behavior is then the deciding factor for helping the model converge on a solution."
   ]
  },
  {
   "cell_type": "code",
   "execution_count": 6,
   "metadata": {},
   "outputs": [
    {
     "data": {
      "text/html": [
       "<div>\n",
       "<style scoped>\n",
       "    .dataframe tbody tr th:only-of-type {\n",
       "        vertical-align: middle;\n",
       "    }\n",
       "\n",
       "    .dataframe tbody tr th {\n",
       "        vertical-align: top;\n",
       "    }\n",
       "\n",
       "    .dataframe thead th {\n",
       "        text-align: right;\n",
       "    }\n",
       "</style>\n",
       "<table border=\"1\" class=\"dataframe\">\n",
       "  <thead>\n",
       "    <tr style=\"text-align: right;\">\n",
       "      <th></th>\n",
       "      <th>userId</th>\n",
       "      <th>movieId</th>\n",
       "      <th>rating</th>\n",
       "      <th>timestamp</th>\n",
       "      <th>user_label</th>\n",
       "      <th>movie_label</th>\n",
       "    </tr>\n",
       "  </thead>\n",
       "  <tbody>\n",
       "    <tr>\n",
       "      <th>0</th>\n",
       "      <td>1</td>\n",
       "      <td>81834</td>\n",
       "      <td>5.0</td>\n",
       "      <td>1425942133</td>\n",
       "      <td>0</td>\n",
       "      <td>16196</td>\n",
       "    </tr>\n",
       "    <tr>\n",
       "      <th>1</th>\n",
       "      <td>1</td>\n",
       "      <td>112552</td>\n",
       "      <td>5.0</td>\n",
       "      <td>1425941336</td>\n",
       "      <td>0</td>\n",
       "      <td>23638</td>\n",
       "    </tr>\n",
       "    <tr>\n",
       "      <th>2</th>\n",
       "      <td>1</td>\n",
       "      <td>98809</td>\n",
       "      <td>0.5</td>\n",
       "      <td>1425942640</td>\n",
       "      <td>0</td>\n",
       "      <td>20011</td>\n",
       "    </tr>\n",
       "    <tr>\n",
       "      <th>3</th>\n",
       "      <td>1</td>\n",
       "      <td>99114</td>\n",
       "      <td>4.0</td>\n",
       "      <td>1425941667</td>\n",
       "      <td>0</td>\n",
       "      <td>20089</td>\n",
       "    </tr>\n",
       "    <tr>\n",
       "      <th>4</th>\n",
       "      <td>1</td>\n",
       "      <td>858</td>\n",
       "      <td>5.0</td>\n",
       "      <td>1425941523</td>\n",
       "      <td>0</td>\n",
       "      <td>843</td>\n",
       "    </tr>\n",
       "  </tbody>\n",
       "</table>\n",
       "</div>"
      ],
      "text/plain": [
       "   userId  movieId  rating   timestamp  user_label  movie_label\n",
       "0       1    81834     5.0  1425942133           0        16196\n",
       "1       1   112552     5.0  1425941336           0        23638\n",
       "2       1    98809     0.5  1425942640           0        20011\n",
       "3       1    99114     4.0  1425941667           0        20089\n",
       "4       1      858     5.0  1425941523           0          843"
      ]
     },
     "execution_count": 6,
     "metadata": {},
     "output_type": "execute_result"
    }
   ],
   "source": [
    "ratings_df = pd.read_csv('data/ratings.csv')\n",
    "df, user_le, movie_le = users.add_labels(ratings_df)\n",
    "df.head()"
   ]
  },
  {
   "cell_type": "code",
   "execution_count": 8,
   "metadata": {},
   "outputs": [],
   "source": [
    "movie_train, movie_val, movie_test, user_train, \\\n",
    "user_val, user_test, rating_train, rating_val, \\\n",
    "rating_test = users.create_training_data(df.movie_label.values, df.user_label.values, df.rating)"
   ]
  },
  {
   "cell_type": "code",
   "execution_count": null,
   "metadata": {},
   "outputs": [],
   "source": [
    "model, history = users.train_nn_user_behaviour(df, movie_train, movie_val, user_train, user_val, rating_train, rating_val)"
   ]
  },
  {
   "cell_type": "markdown",
   "metadata": {},
   "source": [
    "To extract the embedding layers:"
   ]
  },
  {
   "cell_type": "code",
   "execution_count": null,
   "metadata": {},
   "outputs": [],
   "source": [
    "movie_vec = users.extract_weights('movie_vec', model)\n",
    "user_vec = users.extract_weights('user_vec', model)"
   ]
  },
  {
   "cell_type": "markdown",
   "metadata": {},
   "source": [
    "And to produce the output, use:"
   ]
  },
  {
   "cell_type": "code",
   "execution_count": null,
   "metadata": {},
   "outputs": [],
   "source": [
    "users.get_user_movie_output(model, eval_df, user_le, movie_le)"
   ]
  },
  {
   "cell_type": "markdown",
   "metadata": {},
   "source": [
    "#### Using content similarity and collaborative embeddings\n",
    "\n",
    "For this part, the movies are now represented as a dimenstionally reduced vector of the metadata features for the movie. This is combined with the movie embeddings from the previous NN to have a representation of both content similarity and user behaviour similarity. Once combined, I apply UMAP on top to reduce the dimensionality and construct cosine similarity matrix that will have the distance between -1 to 1 for all movies and each other."
   ]
  },
  {
   "cell_type": "code",
   "execution_count": null,
   "metadata": {},
   "outputs": [],
   "source": [
    "movie_to_movie_df = get_movie_to_movie_rating(model, movie_le, embedding_df)\n",
    "movie_to_movie_df.to_csv('output/movie_to_movie.csv', index=False)"
   ]
  }
 ],
 "metadata": {
  "kernelspec": {
   "display_name": "Python 3",
   "language": "python",
   "name": "python3"
  },
  "language_info": {
   "codemirror_mode": {
    "name": "ipython",
    "version": 3
   },
   "file_extension": ".py",
   "mimetype": "text/x-python",
   "name": "python",
   "nbconvert_exporter": "python",
   "pygments_lexer": "ipython3",
   "version": "3.6.8"
  }
 },
 "nbformat": 4,
 "nbformat_minor": 4
}
